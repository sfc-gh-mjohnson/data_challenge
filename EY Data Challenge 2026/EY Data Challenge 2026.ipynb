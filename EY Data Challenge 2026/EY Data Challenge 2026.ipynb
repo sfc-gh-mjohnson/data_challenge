{
 "metadata": {
  "kernelspec": {
   "display_name": "Streamlit Notebook",
   "name": "streamlit"
  },
  "lastEditStatus": {
   "notebookId": "dadzisfl7sxbf5qiwygo",
   "authorId": "579617515231",
   "authorName": "MIKE_JOHNSON",
   "authorEmail": "mike.johnson@snowflake.com",
   "sessionId": "d5830f40-4de5-408b-afec-b308673e6dfa",
   "lastEditTime": 1760396020218
  }
 },
 "nbformat_minor": 5,
 "nbformat": 4,
 "cells": [
  {
   "cell_type": "code",
   "id": "6ba64ebe-b831-4f58-a6a1-95339ef80140",
   "metadata": {
    "language": "sql",
    "name": "stage"
   },
   "outputs": [],
   "source": "create stage if not exists libraries;\nls @libraries;",
   "execution_count": null
  },
  {
   "cell_type": "code",
   "id": "3775908f-ca36-4846-8f38-5adca39217f2",
   "metadata": {
    "language": "python",
    "name": "imports"
   },
   "source": "# Import python packages\n\nimport dotenv\nimport planetary_computer\nimport pystac\nimport pystac_client\nimport odc\n\n# We can also use Snowpark for our analyses!\nfrom snowflake.snowpark.context import get_active_session\nsession = get_active_session()\n\ntry:\n    print(f\"Planetary-Computer version: {planetary_computer.__version__}\")\nexcept ImportError:\n    print(\"Planetary Computer is not installed\")\n\ntry:\n    print(f\"Pystac version: {pystac.__version__}\")\nexcept ImportError:\n    print(\"Pystac is not installed\")\n\ntry:\n    print(f\"Pystac-client version: {pystac_client.__version__}\")\nexcept ImportError:\n    print(\"Pystac-client is not installed\")\n\n",
   "execution_count": null,
   "outputs": []
  }
 ]
}